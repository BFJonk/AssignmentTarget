{
 "cells": [
  {
   "cell_type": "markdown",
   "metadata": {},
   "source": [
    "# Environment set-up"
   ]
  },
  {
   "cell_type": "markdown",
   "metadata": {},
   "source": [
    "On this page I recorded the commands required to set up the environment correctly"
   ]
  },
  {
   "cell_type": "markdown",
   "metadata": {},
   "source": [
    "Install miniconda\n",
    "https://conda.io/docs/user-guide/install/index.html#installing-conda-on-a-system-that-has-other-python-installations-or-packages \n",
    "\n",
    "\n",
    "Download miniconda: \n",
    "https://conda.io/docs/user-guide/install/macos.html\n",
    "\n",
    "```sh\n",
    "Cd Downloads\n",
    "bash Miniconda3-latest-MacOSX-x86_64.sh\n",
    "```"
   ]
  },
  {
   "cell_type": "markdown",
   "metadata": {},
   "source": [
    "Create conda venv\n",
    "\n",
    "```sh\n",
    "Conda create —name py36 python=3.6\n",
    "conda activate py36\n",
    "\n",
    "which conda\n",
    "conda info\n",
    "\n",
    "conda update -n base conda\n",
    "\n",
    "conda install numpy\n",
    "conda install SciPy\n",
    "conda install scikit-learn\n",
    "conda install pandas\n",
    "conda install jupyter\n",
    "\n",
    "conda install numpy scipy matplotlib pandas scikit-learn jupyter\n",
    "\n",
    "\n",
    "\n",
    "```\n",
    "to get installed packages: \n",
    "\n",
    "```sh\n",
    "conda list\n",
    "pip freeze > requirement.txt\n",
    "\n",
    "```\n"
   ]
  },
  {
   "cell_type": "markdown",
   "metadata": {},
   "source": [
    "check internet connectivity\n",
    "\n",
    "```sh\n",
    "curl www.google.com | grep 200\n",
    "```"
   ]
  },
  {
   "cell_type": "markdown",
   "metadata": {},
   "source": [
    "Copy training and test to correct directory:\n"
   ]
  },
  {
   "cell_type": "markdown",
   "metadata": {},
   "source": [
    "Start Jupyter:\n",
    "\n",
    "```sh\n",
    "jupyter notebook\n",
    "```\n",
    "\n",
    "\n",
    "http://localhost:8888/tree/GIT/JupyterNotebooks \n",
    "http://localhost:8888/notebooks/GIT/JupyterNotebooks/py3%20Notebook.ipynb# \n",
    "\n"
   ]
  }
 ],
 "metadata": {
  "kernelspec": {
   "display_name": "Python 3",
   "language": "python",
   "name": "python3"
  },
  "language_info": {
   "codemirror_mode": {
    "name": "ipython",
    "version": 3
   },
   "file_extension": ".py",
   "mimetype": "text/x-python",
   "name": "python",
   "nbconvert_exporter": "python",
   "pygments_lexer": "ipython3",
   "version": "3.6.6"
  }
 },
 "nbformat": 4,
 "nbformat_minor": 2
}
